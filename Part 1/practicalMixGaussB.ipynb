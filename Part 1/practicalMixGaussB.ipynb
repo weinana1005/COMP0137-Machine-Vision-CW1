{
 "cells": [
  {
   "cell_type": "markdown",
   "metadata": {},
   "source": [
    "# practicalMixGaussB\n",
    "\n",
    "The goal of this part of the lab is to fit a mixture of gaussians model to some one-dimensional data. To do this, we will first generate some data from a known mixture of gaussians model and fit our own mixture of gaussians model to the generated data. The parameters from our estimated mixture of gaussians model should roughly match those of the original known model. \n",
    "\n",
    "You should use this template for your code and fill in the missing \n",
    "sections marked \"TO DO.\"\n",
    "\n",
    "PLEASE NOTE (again): You should NOT be using functions like multivariate_normal.pdf and normfit or any other numpy functions for fitting your distributions in this or further parts of this practical. Optionally, you can try comparing your results to those produced by those functions, but our goal here is to learn what is happening!"
   ]
  },
  {
   "cell_type": "code",
   "metadata": {
    "ExecuteTime": {
     "end_time": "2024-11-16T17:40:56.766938Z",
     "start_time": "2024-11-16T17:40:52.393036Z"
    }
   },
   "source": [
    "import os \n",
    "import numpy as np\n",
    "import matplotlib.pyplot as plt\n",
    "import scipy.io as spio\n",
    "from scipy.stats import norm \n",
    "import time\n",
    "\n",
    "%matplotlib inline"
   ],
   "outputs": [],
   "execution_count": 1
  },
  {
   "cell_type": "markdown",
   "metadata": {
    "collapsed": true
   },
   "source": [
    "## Construct Ground Truth Mixture of Gaussians Model and Plot Some Points\n",
    "\n",
    "Define some true parameters for our grounf truth mixture of $k$ Gaussians model. We will represent the mixtures of Gaussians as a python dictionary. Not that we are working in one dimension, but if we were to require $d$ dimenisions, the mean field would be a $d \\times k$ matrix and the cov field would be a $d \\times d \\times k$ matrix. "
   ]
  },
  {
   "cell_type": "code",
   "metadata": {
    "ExecuteTime": {
     "end_time": "2024-11-16T17:40:59.006432Z",
     "start_time": "2024-11-16T17:40:59.001473Z"
    }
   },
   "source": [
    "mixGaussTrue = dict()\n",
    "mixGaussTrue['k'] = 2 # number of gaussians\n",
    "mixGaussTrue['d'] = 1 # dimension of the data\n",
    "mixGaussTrue['weight'] = np.array([0.3, 0.7]) # weight assigned to each gaussian\n",
    "mixGaussTrue['mean'] = np.array([[-1,1.5]]) # the mean for each gaussian \n",
    "mixGaussTrue['cov'] = np.reshape([0.5, 0.25], newshape=(1,1,2)) # the covariance for each gaussian"
   ],
   "outputs": [
    {
     "name": "stderr",
     "output_type": "stream",
     "text": [
      "C:\\Users\\weinana\\AppData\\Local\\Temp\\ipykernel_17440\\3250389307.py:6: DeprecationWarning: `newshape` keyword argument is deprecated, use `shape=...` or pass shape positionally instead. (deprecated in NumPy 2.1)\n",
      "  mixGaussTrue['cov'] = np.reshape([0.5, 0.25], newshape=(1,1,2)) # the covariance for each gaussian\n"
     ]
    }
   ],
   "execution_count": 2
  },
  {
   "cell_type": "markdown",
   "metadata": {
    "collapsed": true
   },
   "source": [
    "**getGaussProb**, **sampleFromDiscrete**, and **drawEMData1d** are helper functions. "
   ]
  },
  {
   "cell_type": "code",
   "metadata": {
    "ExecuteTime": {
     "end_time": "2024-11-16T17:41:00.039688Z",
     "start_time": "2024-11-16T17:41:00.035224Z"
    }
   },
   "source": [
    "# subroutine to return gaussian probabilities\n",
    "def getGaussProb(x,mean,var):   \n",
    "    \"\"\"\n",
    "    Returns the likelihood that each data point in x belongs to the Gaussian described by mean and \n",
    "    var.\n",
    "    \n",
    "    Keyword arguments:\n",
    "    x -- 1 by n vector of data points. n is the number of data points.\n",
    "    mean -- scalar containing the mean parameter of the Gaussian distribution.\n",
    "    var -- scalar containing the variance parameter of the Gaussian distribution.\n",
    "    \n",
    "    Returns: \n",
    "    prob -- scalar containing the likelihood that each data point in data belongs to the Gaussian \n",
    "    distribution defined by mean and var.\n",
    "    \"\"\"\n",
    "    mean = np.squeeze(mean)\n",
    "    var = np.squeeze(var)\n",
    "    prob = np.exp(-0.5*((x-mean)**2)/(var))\n",
    "    prob = prob/ np.sqrt(2*np.pi*var) \n",
    "    return prob"
   ],
   "outputs": [],
   "execution_count": 3
  },
  {
   "cell_type": "code",
   "metadata": {
    "scrolled": true,
    "ExecuteTime": {
     "end_time": "2024-11-16T17:41:00.496102Z",
     "start_time": "2024-11-16T17:41:00.491639Z"
    }
   },
   "source": [
    "def sampleFromDiscrete(probDist): \n",
    "    \"\"\"\n",
    "    Draws a random sample from a discrete probability distribution using a rejection sampling method.  \n",
    "    \n",
    "    Keyword arguments:\n",
    "    probDist -- discrete probability ditrubtion to sample from.\n",
    "    \n",
    "    Returns: \n",
    "    r -- sampled point.\n",
    "    \"\"\"\n",
    "\n",
    "    nIndex = len(probDist)\n",
    "    while True:\n",
    "        #choose random index \n",
    "        r=int(np.floor(np.random.uniform()*nIndex)) \n",
    "        #choose random height\n",
    "        randHeight = np.random.uniform()\n",
    "        #if height is less than probability value at this point in the\n",
    "        # histogram then select \n",
    "        if randHeight<probDist[r]: \n",
    "            break\n",
    "    return r "
   ],
   "outputs": [],
   "execution_count": 4
  },
  {
   "cell_type": "code",
   "metadata": {
    "ExecuteTime": {
     "end_time": "2024-11-16T17:41:01.048151Z",
     "start_time": "2024-11-16T17:41:01.037240Z"
    }
   },
   "source": [
    "def drawEMData1d(data, mixGauss):\n",
    "    \"\"\"\n",
    "    Draw the data, data, in histogram form and plot the mixtures of Gaussian model, mixGauss, on top of it.\n",
    "    \n",
    "    Keyword arguments:\n",
    "    data -- 1 by n vector of data points.\n",
    "    mixGauss -- dict with mixture of gaussian information.\n",
    "\n",
    "    \"\"\"\n",
    "    # delete previous plot if it exists \n",
    "    # hold off;\n",
    "    # bin the data to make a histogram\n",
    "                                                                                                          \n",
    "    binWidth = 0.1\n",
    "    binMin = -4.0\n",
    "    binMax = 4.0\n",
    "    nSteps = int(np.ceil((binMax - binMin) / binWidth))\n",
    "                                                                                                          \n",
    "    nDims, nData = data.shape\n",
    "                                                                                                          \n",
    "    xHist = np.linspace(binMin, binMax, nSteps, endpoint=True)\n",
    "    xHistExt = np.append(xHist, np.inf) \n",
    "    yHist, _ = np.histogram(data, xHistExt)\n",
    "                                                                                                          \n",
    "    yHist = yHist / (nData * binWidth)\n",
    "    plt.cla()\n",
    "    plt.bar(xHist, yHist, binWidth, edgecolor='b') \n",
    "                                                                                                          \n",
    "    # calculate Gaussian data\n",
    "    nGauss = mixGauss['k']\n",
    "    gaussEnvEst = np.zeros(xHist.shape)\n",
    "    for cGauss in range(nGauss):\n",
    "        # calculate weighted Gaussian values\n",
    "        gaussProb = mixGauss['weight'][cGauss] * getGaussProb(xHist, mixGauss['mean'][:,cGauss],          \n",
    "                                                              mixGauss['cov'][:, :, cGauss])              \n",
    "        plt.plot(xHist, gaussProb, 'm-')  # weighted components of MoG                                    \n",
    "        # add to form envelope                                                                            \n",
    "        gaussEnvEst = gaussEnvEst + gaussProb \n",
    "                                                                                                          \n",
    "    plt.plot(xHist, gaussEnvEst, 'g-')  # final mixture of Gaussians                                      \n",
    "                                                                                                          \n",
    "    # tidy up plot                                                                                        \n",
    "    plt.xlabel('Data Value')                                                                              \n",
    "    plt.ylabel('Probability Density')                                                                     \n",
    "    # set(gca,'Box','Off');                                                                               \n",
    "    # set(gcf,'Color',[1 1 1]);                                                                           \n",
    "    plt.xlim((binMin, binMax))                                                                            \n",
    "    plt.ylim((0, max(yHist) * 1.5))                                                                       \n",
    "                                                                                                          \n",
    "    return                                                                                                \n",
    "    "
   ],
   "outputs": [],
   "execution_count": 5
  },
  {
   "cell_type": "markdown",
   "metadata": {
    "collapsed": true
   },
   "source": [
    "**TODO HERE:**\n",
    "\n",
    "Complete the TO DO in this function before moving on. \n",
    "\n"
   ]
  },
  {
   "cell_type": "code",
   "metadata": {
    "ExecuteTime": {
     "end_time": "2024-11-16T17:41:03.562012Z",
     "start_time": "2024-11-16T17:41:03.555565Z"
    }
   },
   "source": [
    "def mixGaussGen1d(mixGauss, nData):  \n",
    "    \"\"\"\n",
    "    Generates data from a one-dimensional mixture of Gaussians model. \n",
    "    \n",
    "    Keyword arguments:\n",
    "    mixGauss -- dict containing the mixture of gaussians arguments.\n",
    "    nData -- number of data points to generate.\n",
    "    \n",
    "    Returns: \n",
    "    data -- 1 by nData, generated data points. \n",
    "    \"\"\"\n",
    "    \n",
    "    # create space for output data                                                                               \n",
    "    data = np.zeros(shape=(1, nData))                                                                            \n",
    "    # for each data point                                                                                        \n",
    "    for cData in range(nData):                                                                                   \n",
    "        # randomly choose Gaussian according to probability distributions                                        \n",
    "        h = sampleFromDiscrete(mixGauss['weight'])                                                               \n",
    "        # draw a sample from the appropriate Gaussian distribution                                               \n",
    "        \n",
    "        # TO DO (d)- replace this \n",
    "        data[:, cData] =  np.random.normal(loc=mixGauss['mean'][:, h], scale=np.sqrt(mixGauss['cov'][:, :, h]))\n",
    "        \n",
    "                                                                                                         \n",
    "    return data                                                                                                  "
   ],
   "outputs": [],
   "execution_count": 6
  },
  {
   "cell_type": "markdown",
   "metadata": {},
   "source": [
    "With all the helper functions complete, we can now generate and plot some points from our model. The blue bars are the histogram of the generated points. The green curve is what the complete mixture of gaussians model looks like. The pink curves are the component gaussians. "
   ]
  },
  {
   "cell_type": "code",
   "metadata": {
    "ExecuteTime": {
     "end_time": "2024-11-16T17:41:04.669581Z",
     "start_time": "2024-11-16T17:41:04.427533Z"
    }
   },
   "source": [
    "# define number of samples to generate\n",
    "nData = 400\n",
    "\n",
    "#generate data from the mixture of Gaussians\n",
    "#make sure you've filled out the todo above! \n",
    "data = mixGaussGen1d(mixGaussTrue,nData)\n",
    "\n",
    "#plot! \n",
    "fig,ax = plt.subplots(1,1)\n",
    "drawEMData1d(data,mixGaussTrue)"
   ],
   "outputs": [
    {
     "data": {
      "text/plain": [
       "<Figure size 640x480 with 1 Axes>"
      ],
      "image/png": "[encoded data removed]"
     },
     "metadata": {},
     "output_type": "display_data"
    }
   ],
   "execution_count": 7
  },
  {
   "metadata": {},
   "cell_type": "markdown",
   "source": [
    "The blue bars represent the histogram of the data, showing how the data is distributed across different values.\n",
    "This graph clearly demonstrate that the GMM is effective at capturing the key clusters in the data since the green curve aligns well with the blue bars."
   ]
  },
  {
   "cell_type": "markdown",
   "metadata": {
    "collapsed": true
   },
   "source": [
    "## Estimate MoG using the E-M Algorithm\n",
    "Here we want to use the E-M algorithm to fit a MoG model to our data points. \n",
    "\n",
    "**TODO HERE:** \n",
    "\n",
    "Fill out the missing parts below. "
   ]
  },
  {
   "cell_type": "code",
   "metadata": {
    "ExecuteTime": {
     "end_time": "2024-11-16T17:41:22.138096Z",
     "start_time": "2024-11-16T17:41:22.131648Z"
    }
   },
   "source": [
    "def getMixGaussBound(data, mixGaussEst, responsibilities):                                                  \n",
    "    \"\"\"\n",
    "    Calculate the bound on the log likelihood for the whole data set under a mixture of Gaussians model.  \n",
    "    \n",
    "    Keyword arguments:\n",
    "    data -- d by n matrix containing data points.\n",
    "    mixGaussEst -- dict \n",
    "    aining the mixture of gaussians parameters.\n",
    "    responsibilities -- k by n vector containing the responsibility of this data point for each Gaussian. \n",
    "    \n",
    "    Returns: \n",
    "    bound -- scalar containing the bound on the log likelihood.\n",
    "    \n",
    "    \"\"\"\n",
    "    # find total number of data items                                                                       \n",
    "    nDims, nData = data.shape                                                                               \n",
    "                                                                                                            \n",
    "    # initialize bound                                                                                      \n",
    "    bound = 0                                                                                               \n",
    "    \n",
    "    curCov = mixGaussEst['cov']                                                                             \n",
    "    curWeight = mixGaussEst['weight']                                                                    \n",
    "    curMean = mixGaussEst['mean']                                                                           \n",
    "     \n",
    "    # run through each data item                                                                            \n",
    "    for cData in range(nData):                                                                              \n",
    "        # extract this data                                                                                 \n",
    "        thisData = data[:, cData]                                                                           \n",
    "        # extract this q(h)                                                                                 \n",
    "        thisQ = responsibilities[:, cData]                                                                  \n",
    "                                                                                                            \n",
    "        # TO DO - calculate contribution to bound of this datapoint                                         \n",
    "        # Replace this                                                                                      \n",
    "        boundValue = 0\n",
    "        for cGauss in range(mixGaussEst['k']):\n",
    "            # Calculate the log of the Gaussian probability density function\n",
    "            diff = thisData - curMean[:,cGauss]\n",
    "            logGaussian = -0.5 * (np.log(2 * np.pi * curCov[:,:,cGauss]) + (diff ** 2) / curCov[:,:,cGauss])\n",
    "            \n",
    "            # Calculate the weighted log-likelihood contribution\n",
    "            boundValue += thisQ[cGauss] * (np.log(curWeight[cGauss]) + logGaussian)\n",
    "            \n",
    "        # add to total log like                                                                             \n",
    "        bound = bound + boundValue\n",
    "\n",
    "    return np.array(bound).item()"
   ],
   "outputs": [],
   "execution_count": 8
  },
  {
   "cell_type": "markdown",
   "metadata": {
    "collapsed": true
   },
   "source": [
    "**TODO HERE:** \n",
    "\n",
    "Fill out the missing parts below. \n",
    "\n",
    "The log likelihood is taken since the raw likelihood value could be too small for our machine's percision. "
   ]
  },
  {
   "cell_type": "code",
   "metadata": {
    "ExecuteTime": {
     "end_time": "2024-11-16T17:41:25.167325Z",
     "start_time": "2024-11-16T17:41:25.161372Z"
    }
   },
   "source": [
    "def getMixGaussLogLike(data, mixGaussEst):\n",
    "    \"\"\"\n",
    "    Calculate the log likelihood for the whole dataset under a mixture of Gaussians model.\n",
    "    \n",
    "    Keyword arguments:\n",
    "    data -- d by n matrix containing data points.\n",
    "    mixGaussEst -- dict containing the mixture of gaussians parameters.\n",
    "\n",
    "    Returns: \n",
    "    logLike -- scalar containing the log likelihood.\n",
    "    \n",
    "    \"\"\"\n",
    "    data = np.atleast_2d(data)                                                                         \n",
    "    # find total number of data items                                                                  \n",
    "    nDims, nData = data.shape                                                                          \n",
    "    \n",
    "    # initialize log likelihoods                                                                       \n",
    "    logLike = 0\n",
    "                                                                                                       \n",
    "    # run through each data item                                                                       \n",
    "    for cData in range(nData):                                                                         \n",
    "        thisData = data[:, cData]    \n",
    "        \n",
    "        # TO DO (e) - calculate likelihood of this data point under mixture of                         \n",
    "        # Gaussians model. Replace this                                                                \n",
    "        like = 0\n",
    "        for cGauss in range(mixGaussEst['k']):\n",
    "            # Calculate the Gaussian probability density function for the current Gaussian component\n",
    "            diff = thisData - mixGaussEst['mean'][:,cGauss]\n",
    "            gaussian = (1 / np.sqrt(2 * np.pi * mixGaussEst['cov'][:,:,cGauss])) * np.exp(-0.5 * (diff ** 2) / mixGaussEst['cov'][:,:,cGauss])\n",
    "            \n",
    "            # Weight the Gaussian by the mixture weight\n",
    "            like += mixGaussEst['weight'][cGauss] * gaussian                                                                                               \n",
    "        # add to total log like                                                                        \n",
    "        logLike = logLike + np.log(like)                                                               \n",
    "                                                                                                       \n",
    "    return  np.array(logLike).item()                                                                    \n",
    "                                                                                                       "
   ],
   "outputs": [],
   "execution_count": 9
  },
  {
   "cell_type": "markdown",
   "metadata": {
    "collapsed": true
   },
   "source": [
    "**TODO HERE:** \n",
    "\n",
    "Fill out the missing parts below. "
   ]
  },
  {
   "cell_type": "code",
   "metadata": {
    "ExecuteTime": {
     "end_time": "2024-11-16T17:41:26.471621Z",
     "start_time": "2024-11-16T17:41:26.452773Z"
    }
   },
   "source": [
    "def fitMixGauss1d(data, k):   \n",
    "    \"\"\"\n",
    "    Estimate a k MoG model that would fit the data. Incremently plots the outcome.\n",
    "               \n",
    "    \n",
    "    Keyword arguments:\n",
    "    data -- d by n matrix containing data points.\n",
    "    k -- scalar representing the number of gaussians to use in the MoG model.\n",
    "    \n",
    "    Returns: \n",
    "    mixGaussEst -- dict containing the estimated MoG parameters.\n",
    "    \n",
    "    \"\"\"\n",
    "    #     MAIN E-M ROUTINE  \n",
    "    #     In the E-M algorithm, we calculate a complete posterior distribution over                                  \n",
    "    #     the (nData) hidden variables in the E-Step.  \n",
    "    #     In the M-Step, we update the parameters of the Gaussians (mean, cov, w).   \n",
    "    \n",
    "    # chapter 7\n",
    "    nDims, nData = data.shape                                                                                        \n",
    "                                                                                                                     \n",
    "                                                                                                      \n",
    "    responsibilities = np.zeros(shape=(k, nData))                                                                    \n",
    "                                                                                                                     \n",
    "    # we will initialize the values to random values                                                                 \n",
    "    mixGaussEst = dict()                                                                                             \n",
    "    mixGaussEst['d'] = 1                                                                                             \n",
    "    mixGaussEst['k'] = k                                                                                             \n",
    "    mixGaussEst['weight'] = (1 / k) * np.ones(shape=(k))                                                             \n",
    "    mixGaussEst['mean'] = 2 * np.random.randn(1, k)                                                                  \n",
    "    mixGaussEst['cov'] = 0.1 + 1.5*np.random.uniform(size=(1,1,2))                                                   \n",
    "                                                                                                                     \n",
    "    # calculate current likelihood                                                                                   \n",
    "    # TO DO - fill in this routine                                                                                   \n",
    "    logLike = getMixGaussLogLike(data, mixGaussEst)                                                                  \n",
    "    print('Log Likelihood Iter 0 : {:4.3f}\\n'.format(logLike))                                                       \n",
    "                                                                                                                     \n",
    "    nIter = 20                                                                                                    \n",
    "                                                                                                                     \n",
    "    logLikeVec = np.zeros(shape=(2 * nIter))                                                                         \n",
    "    boundVec = np.zeros(shape=(2 * nIter)) \n",
    "    \n",
    "    fig,ax = plt.subplots(1,1)\n",
    "                                                                                                                     \n",
    "    for cIter in range(nIter):                                                                                       \n",
    "                                                                                                                     \n",
    "        # ===================== =====================                                                                \n",
    "        # Expectation step                                                                                           \n",
    "        # ===================== =====================                                                                \n",
    "        curCov = mixGaussEst['cov']                                                                                  \n",
    "        curWeight = mixGaussEst['weight']                                                                            \n",
    "        curMean = mixGaussEst['mean']                                                                                \n",
    "        for cData in range(nData):           \n",
    "            \n",
    "            # TO DO: fill in column of 'hidden' - caculate posterior probability that                                \n",
    "            # this data point came from each of the Gaussians                                                        \n",
    "            # replace this:                                                                                          \n",
    "            likelihoods = np.zeros(k)\n",
    "            thisData = data[:, cData] \n",
    "            like = np.zeros(mixGaussEst['k'])\n",
    "            \n",
    "            for i in range(mixGaussEst['k']):\n",
    "                like[i] = curWeight[i] * getGaussProb(thisData,curMean[:,i],curCov[:,:,i])\n",
    "                # lamda_k * Norm_xi(mu_k,cov_k)\n",
    "                \n",
    "            responsibilities[:, cData] = (like/np.sum(like)).reshape(mixGaussEst['k'],) \n",
    "            \n",
    "            \n",
    "        # calculate the log likelihood                                                                               \n",
    "        logLike = getMixGaussLogLike(data, mixGaussEst)                                                              \n",
    "        print('Log Likelihood After E-Step Iter {} : {:4.3f}\\n'.format(cIter, logLike))                              \n",
    "                                                                                                                     \n",
    "        # calculate the bound                                                                                        \n",
    "        # TO DO - Fill in this routine                                                                               \n",
    "        bound = getMixGaussBound(data, mixGaussEst, responsibilities)                                                \n",
    "        print('Bound After E-Step Iter {} : {:4.3f}\\n'.format(cIter, bound))     \n",
    "        \n",
    "        logLikeVec[2 * cIter] = logLike                                                                              \n",
    "        boundVec[2 * cIter] = bound                                                                                  \n",
    "        # ===================== =====================                                                                \n",
    "        # Maximization Step                                                                                          \n",
    "        # ===================== =====================                                                                \n",
    "        # for each constituent Gaussian                                                                              \n",
    "        for cGauss in range(k):                                                                                      \n",
    "            # TO DO:  Update weighting parameters mixGauss.weight based on the total                                 \n",
    "            # posterior probability associated with each Gaussian. Replace this:                                         \n",
    "            mixGaussEst['weight'][cGauss] = np.sum(responsibilities[cGauss, :]) / nData\n",
    "            \n",
    "                                                                                                                 \n",
    "            # TO DO:  Update mean parameters mixGauss.mean by weighted average                                       \n",
    "            # where weights are given by posterior probability associated with                                       \n",
    "            # Gaussian. Replace this:                                    \n",
    "            mixGaussEst['mean'][:,cGauss] = np.sum(responsibilities[cGauss, :] * data) / np.sum(responsibilities[cGauss, :])\n",
    "            \n",
    "            \n",
    "            # TO DO:  Update covariance parameter based on weighted average of                                        \n",
    "            # square distance from update mean, where weights are given by                                           \n",
    "            # posterior probability associated with Gaussian. Replace this:                                                        \n",
    "            diff = data - mixGaussEst['mean'][:,cGauss]\n",
    "            mixGaussEst['cov'][:, :, cGauss] = np.sum(responsibilities[cGauss, :] * (diff ** 2)) / np.sum(responsibilities[cGauss, :])\n",
    "            \n",
    "                                                                                                                     \n",
    "        # draw the new solution  \n",
    "        drawEMData1d(data, mixGaussEst)\n",
    "        time.sleep(0.7)\n",
    "        fig.canvas.draw()\n",
    "                                                                                                                     \n",
    "        # calculate the log likelihood                                                                               \n",
    "        logLike = getMixGaussLogLike(data, mixGaussEst)                                                              \n",
    "        print('Log Likelihood After M-Step Iter {} : {:4.3f}\\n'.format(cIter, logLike))                              \n",
    "                                                                                                                     \n",
    "        # calculate the bound                                                                                        \n",
    "        bound = getMixGaussBound(data, mixGaussEst, responsibilities)                                                \n",
    "        print('Bound After M-Step Iter {} : {:4.3f}\\n'.format(cIter, bound)) \n",
    "                                                                                                                  \n",
    "        logLikeVec[2 * cIter + 1] = logLike                                                                          \n",
    "        boundVec[2 * cIter + 1] = bound                                                                              \n",
    "                                                                                                                     \n",
    "    plt.figure()                                                                                                     \n",
    "    plt.plot(logLikeVec, 'g',label='log likelihood')                                                                                        \n",
    "    plt.plot(boundVec, 'r',label='lower bound')  \n",
    "    plt.legend()\n",
    "                                                                                                                     \n",
    "    return mixGaussEst                                                                                               "
   ],
   "outputs": [],
   "execution_count": 10
  },
  {
   "cell_type": "markdown",
   "metadata": {},
   "source": [
    "### Time to put it all together!\n",
    "\n",
    "Make sure you've filled all the TO DOs above! "
   ]
  },
  {
   "cell_type": "code",
   "metadata": {
    "ExecuteTime": {
     "end_time": "2024-11-16T17:43:27.132831Z",
     "start_time": "2024-11-16T17:43:09.465381Z"
    }
   },
   "source": [
    "#generate data from the ground truth mixture of Gaussians we've defined way above. \n",
    "#make sure you've completed this routine above.\n",
    "data = mixGaussGen1d(mixGaussTrue,nData)\n",
    "\n",
    "#draw data, ground truth mixture of Gaussians.\n",
    "drawEMData1d(data,mixGaussTrue)\n",
    "\n",
    "#define number of components to estimate\n",
    "nGaussEst = 2\n",
    "\n",
    "#fit mixture of Gaussians (Pretend someone handed you some data. Now what?)\n",
    "#Make sure you've completed this routine above.\n",
    "mixGaussEst = fitMixGauss1d(data,nGaussEst)"
   ],
   "outputs": [
    {
     "name": "stdout",
     "output_type": "stream",
     "text": [
      "Log Likelihood Iter 0 : -833.404\n",
      "\n",
      "Log Likelihood After E-Step Iter 0 : -833.404\n",
      "\n",
      "Bound After E-Step Iter 0 : -877.330\n",
      "\n"
     ]
    },
    {
     "name": "stderr",
     "output_type": "stream",
     "text": [
      "C:\\Users\\weinana\\AppData\\Local\\Temp\\ipykernel_17440\\3258461250.py:63: DeprecationWarning: Conversion of an array with ndim > 0 to a scalar is deprecated, and will error in future. Ensure you extract a single element from your array before performing this operation. (Deprecated NumPy 1.25.)\n",
      "  like[i] = curWeight[i] * getGaussProb(thisData,curMean[:,i],curCov[:,:,i])\n"
     ]
    },
    {
     "name": "stdout",
     "output_type": "stream",
     "text": [
      "Log Likelihood After M-Step Iter 0 : -566.166\n",
      "\n",
      "Bound After M-Step Iter 0 : -626.989\n",
      "\n",
      "Log Likelihood After E-Step Iter 1 : -566.166\n",
      "\n",
      "Bound After E-Step Iter 1 : -595.306\n",
      "\n",
      "Log Likelihood After M-Step Iter 1 : -546.810\n",
      "\n",
      "Bound After M-Step Iter 1 : -583.859\n",
      "\n",
      "Log Likelihood After E-Step Iter 2 : -546.810\n",
      "\n",
      "Bound After E-Step Iter 2 : -566.857\n",
      "\n",
      "Log Likelihood After M-Step Iter 2 : -534.838\n",
      "\n",
      "Bound After M-Step Iter 2 : -559.668\n",
      "\n",
      "Log Likelihood After E-Step Iter 3 : -534.838\n",
      "\n",
      "Bound After E-Step Iter 3 : -551.379\n",
      "\n",
      "Log Likelihood After M-Step Iter 3 : -529.421\n",
      "\n",
      "Bound After M-Step Iter 3 : -547.980\n",
      "\n",
      "Log Likelihood After E-Step Iter 4 : -529.421\n",
      "\n",
      "Bound After E-Step Iter 4 : -546.136\n",
      "\n",
      "Log Likelihood After M-Step Iter 4 : -527.419\n",
      "\n",
      "Bound After M-Step Iter 4 : -544.887\n",
      "\n",
      "Log Likelihood After E-Step Iter 5 : -527.419\n",
      "\n",
      "Bound After E-Step Iter 5 : -545.762\n",
      "\n",
      "Log Likelihood After M-Step Iter 5 : -526.661\n",
      "\n",
      "Bound After M-Step Iter 5 : -545.299\n",
      "\n",
      "Log Likelihood After E-Step Iter 6 : -526.661\n",
      "\n",
      "Bound After E-Step Iter 6 : -546.810\n",
      "\n",
      "Log Likelihood After M-Step Iter 6 : -526.343\n",
      "\n",
      "Bound After M-Step Iter 6 : -546.620\n",
      "\n",
      "Log Likelihood After E-Step Iter 7 : -526.343\n",
      "\n",
      "Bound After E-Step Iter 7 : -548.043\n",
      "\n",
      "Log Likelihood After M-Step Iter 7 : -526.198\n",
      "\n",
      "Bound After M-Step Iter 7 : -547.957\n",
      "\n",
      "Log Likelihood After E-Step Iter 8 : -526.198\n",
      "\n",
      "Bound After E-Step Iter 8 : -549.120\n",
      "\n",
      "Log Likelihood After M-Step Iter 8 : -526.128\n",
      "\n",
      "Bound After M-Step Iter 8 : -549.079\n",
      "\n",
      "Log Likelihood After E-Step Iter 9 : -526.128\n",
      "\n",
      "Bound After E-Step Iter 9 : -549.983\n",
      "\n",
      "Log Likelihood After M-Step Iter 9 : -526.093\n",
      "\n",
      "Bound After M-Step Iter 9 : -549.962\n",
      "\n",
      "Log Likelihood After E-Step Iter 10 : -526.093\n",
      "\n",
      "Bound After E-Step Iter 10 : -550.649\n",
      "\n",
      "Log Likelihood After M-Step Iter 10 : -526.075\n",
      "\n",
      "Bound After M-Step Iter 10 : -550.639\n",
      "\n",
      "Log Likelihood After E-Step Iter 11 : -526.075\n",
      "\n",
      "Bound After E-Step Iter 11 : -551.156\n",
      "\n",
      "Log Likelihood After M-Step Iter 11 : -526.066\n",
      "\n",
      "Bound After M-Step Iter 11 : -551.150\n",
      "\n",
      "Log Likelihood After E-Step Iter 12 : -526.066\n",
      "\n",
      "Bound After E-Step Iter 12 : -551.538\n",
      "\n",
      "Log Likelihood After M-Step Iter 12 : -526.061\n",
      "\n",
      "Bound After M-Step Iter 12 : -551.535\n",
      "\n",
      "Log Likelihood After E-Step Iter 13 : -526.061\n",
      "\n",
      "Bound After E-Step Iter 13 : -551.824\n",
      "\n",
      "Log Likelihood After M-Step Iter 13 : -526.058\n",
      "\n",
      "Bound After M-Step Iter 13 : -551.823\n",
      "\n",
      "Log Likelihood After E-Step Iter 14 : -526.058\n",
      "\n",
      "Bound After E-Step Iter 14 : -552.039\n",
      "\n",
      "Log Likelihood After M-Step Iter 14 : -526.056\n",
      "\n",
      "Bound After M-Step Iter 14 : -552.038\n",
      "\n",
      "Log Likelihood After E-Step Iter 15 : -526.056\n",
      "\n",
      "Bound After E-Step Iter 15 : -552.199\n",
      "\n",
      "Log Likelihood After M-Step Iter 15 : -526.056\n",
      "\n",
      "Bound After M-Step Iter 15 : -552.198\n",
      "\n",
      "Log Likelihood After E-Step Iter 16 : -526.056\n",
      "\n",
      "Bound After E-Step Iter 16 : -552.318\n",
      "\n",
      "Log Likelihood After M-Step Iter 16 : -526.055\n",
      "\n",
      "Bound After M-Step Iter 16 : -552.318\n",
      "\n",
      "Log Likelihood After E-Step Iter 17 : -526.055\n",
      "\n",
      "Bound After E-Step Iter 17 : -552.408\n",
      "\n",
      "Log Likelihood After M-Step Iter 17 : -526.055\n",
      "\n",
      "Bound After M-Step Iter 17 : -552.407\n",
      "\n",
      "Log Likelihood After E-Step Iter 18 : -526.055\n",
      "\n",
      "Bound After E-Step Iter 18 : -552.474\n",
      "\n",
      "Log Likelihood After M-Step Iter 18 : -526.055\n",
      "\n",
      "Bound After M-Step Iter 18 : -552.474\n",
      "\n",
      "Log Likelihood After E-Step Iter 19 : -526.055\n",
      "\n",
      "Bound After E-Step Iter 19 : -552.524\n",
      "\n",
      "Log Likelihood After M-Step Iter 19 : -526.055\n",
      "\n",
      "Bound After M-Step Iter 19 : -552.524\n",
      "\n"
     ]
    },
    {
     "data": {
      "text/plain": [
       "<Figure size 640x480 with 1 Axes>"
      ],
      "image/png": "[encoded data removed]"
     },
     "metadata": {},
     "output_type": "display_data"
    },
    {
     "data": {
      "text/plain": [
       "<Figure size 640x480 with 1 Axes>"
      ],
      "image/png": "[encoded data removed]"
     },
     "metadata": {},
     "output_type": "display_data"
    },
    {
     "data": {
      "text/plain": [
       "<Figure size 640x480 with 1 Axes>"
      ],
      "image/png": "[encoded data removed]"
     },
     "metadata": {},
     "output_type": "display_data"
    }
   ],
   "execution_count": 13
  },
  {
   "metadata": {},
   "cell_type": "markdown",
   "source": [
    "The first and second plots respectively show the ground truth distribution and the EM estimated distribution, and the EM algorithm fit well on plotting the two 1-dimensional gaussians to our data. The E-step estimates the responsibilities for each Gaussian component over each data point then in M-step the parameters of the Gaussian mixture model (means, covariances, and mixing coefficients) are updated based on the responsibilities calculated during the E-step, which maximises the bound.\n",
    "\n",
    "The last plot shows the performance of the EM algorithm as it tries to increase the likelihood of the observed data. The green curve(log-likelihood) generally increases and converges as the algorithm process whereas the red curve(lower bound) shows the guarantee for improvements in the algorithm, which also shows similar pattern as the green curve. "
   ]
  },
  {
   "metadata": {},
   "cell_type": "code",
   "outputs": [],
   "execution_count": null,
   "source": ""
  }
 ],
 "metadata": {
  "kernelspec": {
   "display_name": "Python 3 (ipykernel)",
   "language": "python",
   "name": "python3"
  },
  "language_info": {
   "codemirror_mode": {
    "name": "ipython",
    "version": 3
   },
   "file_extension": ".py",
   "mimetype": "text/x-python",
   "name": "python",
   "nbconvert_exporter": "python",
   "pygments_lexer": "ipython3",
   "version": "3.10.8"
  }
 },
 "nbformat": 4,
 "nbformat_minor": 2
}
